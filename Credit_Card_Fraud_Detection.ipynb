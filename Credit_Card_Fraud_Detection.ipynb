{
  "metadata": {
    "kernelspec": {
      "name": "python3",
      "display_name": "Python 3",
      "language": "python"
    },
    "language_info": {
      "name": "python",
      "version": "3.10.13",
      "mimetype": "text/x-python",
      "codemirror_mode": {
        "name": "ipython",
        "version": 3
      },
      "pygments_lexer": "ipython3",
      "nbconvert_exporter": "python",
      "file_extension": ".py"
    },
    "kaggle": {
      "accelerator": "none",
      "dataSources": [
        {
          "sourceId": 1399887,
          "sourceType": "datasetVersion",
          "datasetId": 817870
        }
      ],
      "dockerImageVersionId": 30698,
      "isInternetEnabled": false,
      "language": "python",
      "sourceType": "notebook",
      "isGpuEnabled": false
    },
    "colab": {
      "name": "Credit_Card_Fraud_Detection",
      "provenance": []
    }
  },
  "nbformat_minor": 0,
  "nbformat": 4,
  "cells": [
    {
      "source": [
        "\n",
        "# IMPORTANT: RUN THIS CELL IN ORDER TO IMPORT YOUR KAGGLE DATA SOURCES\n",
        "# TO THE CORRECT LOCATION (/kaggle/input) IN YOUR NOTEBOOK,\n",
        "# THEN FEEL FREE TO DELETE THIS CELL.\n",
        "# NOTE: THIS NOTEBOOK ENVIRONMENT DIFFERS FROM KAGGLE'S PYTHON\n",
        "# ENVIRONMENT SO THERE MAY BE MISSING LIBRARIES USED BY YOUR\n",
        "# NOTEBOOK.\n",
        "\n",
        "import os\n",
        "import sys\n",
        "from tempfile import NamedTemporaryFile\n",
        "from urllib.request import urlopen\n",
        "from urllib.parse import unquote, urlparse\n",
        "from urllib.error import HTTPError\n",
        "from zipfile import ZipFile\n",
        "import tarfile\n",
        "import shutil\n",
        "\n",
        "CHUNK_SIZE = 40960\n",
        "DATA_SOURCE_MAPPING = 'fraud-detection:https%3A%2F%2Fstorage.googleapis.com%2Fkaggle-data-sets%2F817870%2F1399887%2Fbundle%2Farchive.zip%3FX-Goog-Algorithm%3DGOOG4-RSA-SHA256%26X-Goog-Credential%3Dgcp-kaggle-com%2540kaggle-161607.iam.gserviceaccount.com%252F20240530%252Fauto%252Fstorage%252Fgoog4_request%26X-Goog-Date%3D20240530T053146Z%26X-Goog-Expires%3D259200%26X-Goog-SignedHeaders%3Dhost%26X-Goog-Signature%3D040ca734753b051b23a3b38aec45a7589b475ac3f3ea0b00b7c89285230fd8e1890ef9f65835e9329be5f6dc30732963cf8fb3cda549c4f36d53925f75d82304a6861912f5625b4773d791e179025fa07347910a8813a6209a42f8accacbb1ec84aee466c31b8dedca1396b306b1dd9839e3ce5b79ba1d67bd951db307c3c7ede79c8ceea1ee9214ea373db63b73c8b6144dc7b916f9e8516b0e39b86d619574dfd6cdbbb5f047dd28eb586d6ea00f58b84d296e057a83ff350dc00144670434ad37ff25b64ff024836d98f6cb7eeee0e9d5ee24dde755091538a415e85c7e0c8f532b6e4cb6fa5a90bdb546baf8c38e91484aefd486d2d5837ac19464db3336'\n",
        "\n",
        "KAGGLE_INPUT_PATH='/kaggle/input'\n",
        "KAGGLE_WORKING_PATH='/kaggle/working'\n",
        "KAGGLE_SYMLINK='kaggle'\n",
        "\n",
        "!umount /kaggle/input/ 2> /dev/null\n",
        "shutil.rmtree('/kaggle/input', ignore_errors=True)\n",
        "os.makedirs(KAGGLE_INPUT_PATH, 0o777, exist_ok=True)\n",
        "os.makedirs(KAGGLE_WORKING_PATH, 0o777, exist_ok=True)\n",
        "\n",
        "try:\n",
        "  os.symlink(KAGGLE_INPUT_PATH, os.path.join(\"..\", 'input'), target_is_directory=True)\n",
        "except FileExistsError:\n",
        "  pass\n",
        "try:\n",
        "  os.symlink(KAGGLE_WORKING_PATH, os.path.join(\"..\", 'working'), target_is_directory=True)\n",
        "except FileExistsError:\n",
        "  pass\n",
        "\n",
        "for data_source_mapping in DATA_SOURCE_MAPPING.split(','):\n",
        "    directory, download_url_encoded = data_source_mapping.split(':')\n",
        "    download_url = unquote(download_url_encoded)\n",
        "    filename = urlparse(download_url).path\n",
        "    destination_path = os.path.join(KAGGLE_INPUT_PATH, directory)\n",
        "    try:\n",
        "        with urlopen(download_url) as fileres, NamedTemporaryFile() as tfile:\n",
        "            total_length = fileres.headers['content-length']\n",
        "            print(f'Downloading {directory}, {total_length} bytes compressed')\n",
        "            dl = 0\n",
        "            data = fileres.read(CHUNK_SIZE)\n",
        "            while len(data) > 0:\n",
        "                dl += len(data)\n",
        "                tfile.write(data)\n",
        "                done = int(50 * dl / int(total_length))\n",
        "                sys.stdout.write(f\"\\r[{'=' * done}{' ' * (50-done)}] {dl} bytes downloaded\")\n",
        "                sys.stdout.flush()\n",
        "                data = fileres.read(CHUNK_SIZE)\n",
        "            if filename.endswith('.zip'):\n",
        "              with ZipFile(tfile) as zfile:\n",
        "                zfile.extractall(destination_path)\n",
        "            else:\n",
        "              with tarfile.open(tfile.name) as tarfile:\n",
        "                tarfile.extractall(destination_path)\n",
        "            print(f'\\nDownloaded and uncompressed: {directory}')\n",
        "    except HTTPError as e:\n",
        "        print(f'Failed to load (likely expired) {download_url} to path {destination_path}')\n",
        "        continue\n",
        "    except OSError as e:\n",
        "        print(f'Failed to load {download_url} to path {destination_path}')\n",
        "        continue\n",
        "\n",
        "print('Data source import complete.')\n"
      ],
      "metadata": {
        "id": "vKxTdpdK-6yb",
        "outputId": "45804465-c3e2-4bd8-c3be-407049395cb4",
        "colab": {
          "base_uri": "https://localhost:8080/"
        }
      },
      "cell_type": "code",
      "outputs": [
        {
          "output_type": "stream",
          "name": "stdout",
          "text": [
            "Downloading fraud-detection, 211766662 bytes compressed\n",
            "[==================================================] 211766662 bytes downloaded\n",
            "Downloaded and uncompressed: fraud-detection\n",
            "Data source import complete.\n"
          ]
        }
      ],
      "execution_count": 1
    },
    {
      "cell_type": "markdown",
      "source": [
        "# Credit Card Fraud Detection\n",
        "#### In this notebook a model is built to detect fraudulent credit card transactions using a dataset containing information about credit card transactions, and algorithms like Logistic Regression, Decision Trees, or Random Forests."
      ],
      "metadata": {
        "id": "3XcGGJ8y-6yd"
      }
    },
    {
      "cell_type": "markdown",
      "source": [
        "## Installing & Importing libraries"
      ],
      "metadata": {
        "id": "QI2XdZpf-6ye"
      }
    },
    {
      "cell_type": "code",
      "source": [
        "# !pip install numpy\n",
        "# !pip install pandas\n",
        "# !pip install matplotlib\n",
        "# !pip install -U scikit-learn"
      ],
      "metadata": {
        "execution": {
          "iopub.status.busy": "2024-05-07T04:16:40.672331Z",
          "iopub.execute_input": "2024-05-07T04:16:40.672777Z",
          "iopub.status.idle": "2024-05-07T04:16:40.700926Z",
          "shell.execute_reply.started": "2024-05-07T04:16:40.672742Z",
          "shell.execute_reply": "2024-05-07T04:16:40.699641Z"
        },
        "trusted": true,
        "id": "KWGqMnyf-6yf"
      },
      "execution_count": null,
      "outputs": []
    },
    {
      "cell_type": "code",
      "source": [
        "import numpy as np\n",
        "import pandas as pd\n",
        "import matplotlib.pyplot as plt\n",
        "from sklearn import preprocessing\n",
        "from sklearn.model_selection import GridSearchCV\n",
        "from sklearn.model_selection import train_test_split\n",
        "from sklearn.linear_model import LogisticRegression\n",
        "from sklearn.linear_model import LinearRegression\n",
        "from sklearn.neighbors import KNeighborsClassifier\n",
        "from sklearn.tree import DecisionTreeClassifier\n",
        "from sklearn import svm\n",
        "from sklearn.svm import SVC\n",
        "import sklearn.metrics as metrics\n",
        "from sklearn.metrics import jaccard_score\n",
        "from sklearn.metrics import f1_score\n",
        "from sklearn.metrics import log_loss\n",
        "from sklearn.metrics import confusion_matrix, accuracy_score\n",
        "from sklearn.metrics import mean_absolute_error\n",
        "from sklearn.metrics import mean_squared_error"
      ],
      "metadata": {
        "execution": {
          "iopub.status.busy": "2024-05-05T07:23:14.829361Z",
          "iopub.execute_input": "2024-05-05T07:23:14.82983Z",
          "iopub.status.idle": "2024-05-05T07:23:16.415296Z",
          "shell.execute_reply.started": "2024-05-05T07:23:14.829791Z",
          "shell.execute_reply": "2024-05-05T07:23:16.413746Z"
        },
        "trusted": true,
        "id": "yszvaQym-6yf"
      },
      "execution_count": null,
      "outputs": []
    },
    {
      "cell_type": "markdown",
      "source": [
        "## Data Loading & Framing"
      ],
      "metadata": {
        "id": "ncPmnJcB-6yg"
      }
    },
    {
      "cell_type": "code",
      "source": [
        "df = pd.read_csv(\"/kaggle/input/fraud-detection/fraudTrain.csv\")\n",
        "df"
      ],
      "metadata": {
        "execution": {
          "iopub.status.busy": "2024-05-04T11:09:02.768504Z",
          "iopub.execute_input": "2024-05-04T11:09:02.768972Z",
          "iopub.status.idle": "2024-05-04T11:09:18.311129Z",
          "shell.execute_reply.started": "2024-05-04T11:09:02.76894Z",
          "shell.execute_reply": "2024-05-04T11:09:18.309744Z"
        },
        "trusted": true,
        "id": "wpl06ypO-6yg"
      },
      "execution_count": null,
      "outputs": []
    },
    {
      "cell_type": "markdown",
      "source": [
        "## Data Pre-Processing\n",
        "### a) For Train set"
      ],
      "metadata": {
        "id": "V2wTlIPg-6yg"
      }
    },
    {
      "cell_type": "code",
      "source": [
        "df.isnull().sum()"
      ],
      "metadata": {
        "execution": {
          "iopub.status.busy": "2024-05-04T11:09:28.165924Z",
          "iopub.execute_input": "2024-05-04T11:09:28.166409Z",
          "iopub.status.idle": "2024-05-04T11:09:29.993905Z",
          "shell.execute_reply.started": "2024-05-04T11:09:28.166368Z",
          "shell.execute_reply": "2024-05-04T11:09:29.992729Z"
        },
        "trusted": true,
        "id": "pMMTddaS-6yg"
      },
      "execution_count": null,
      "outputs": []
    },
    {
      "cell_type": "code",
      "source": [
        "df.dtypes"
      ],
      "metadata": {
        "execution": {
          "iopub.status.busy": "2024-05-04T11:09:35.035499Z",
          "iopub.execute_input": "2024-05-04T11:09:35.035884Z",
          "iopub.status.idle": "2024-05-04T11:09:35.046987Z",
          "shell.execute_reply.started": "2024-05-04T11:09:35.035856Z",
          "shell.execute_reply": "2024-05-04T11:09:35.045191Z"
        },
        "trusted": true,
        "id": "wwaNeFhu-6yg"
      },
      "execution_count": null,
      "outputs": []
    },
    {
      "cell_type": "code",
      "source": [
        "df.drop(columns=[\"Unnamed: 0\", \"trans_num\", \"street\"], inplace= True)\n",
        "df"
      ],
      "metadata": {
        "execution": {
          "iopub.status.busy": "2024-05-04T11:09:40.430626Z",
          "iopub.execute_input": "2024-05-04T11:09:40.431084Z",
          "iopub.status.idle": "2024-05-04T11:09:40.778238Z",
          "shell.execute_reply.started": "2024-05-04T11:09:40.431048Z",
          "shell.execute_reply": "2024-05-04T11:09:40.77686Z"
        },
        "trusted": true,
        "id": "q7IoQvrC-6yh"
      },
      "execution_count": null,
      "outputs": []
    },
    {
      "cell_type": "code",
      "source": [
        "data = df.head(n = 20000)\n",
        "data.is_fraud.value_counts()"
      ],
      "metadata": {
        "execution": {
          "iopub.status.busy": "2024-05-04T11:09:46.670004Z",
          "iopub.execute_input": "2024-05-04T11:09:46.670478Z",
          "iopub.status.idle": "2024-05-04T11:09:46.688053Z",
          "shell.execute_reply.started": "2024-05-04T11:09:46.670441Z",
          "shell.execute_reply": "2024-05-04T11:09:46.686427Z"
        },
        "trusted": true,
        "id": "U5JQgUKl-6yh"
      },
      "execution_count": null,
      "outputs": []
    },
    {
      "cell_type": "code",
      "source": [
        "df_processed = pd.get_dummies(data=data)\n",
        "df_processed"
      ],
      "metadata": {
        "execution": {
          "iopub.status.busy": "2024-05-04T11:09:52.657497Z",
          "iopub.execute_input": "2024-05-04T11:09:52.65791Z",
          "iopub.status.idle": "2024-05-04T11:09:53.304609Z",
          "shell.execute_reply.started": "2024-05-04T11:09:52.657878Z",
          "shell.execute_reply": "2024-05-04T11:09:53.303594Z"
        },
        "trusted": true,
        "id": "WDgaWvsU-6yh"
      },
      "execution_count": null,
      "outputs": []
    },
    {
      "cell_type": "code",
      "source": [
        "x_train = df_processed.drop(columns='is_fraud', axis=1)\n",
        "y_train = df_processed['is_fraud']"
      ],
      "metadata": {
        "execution": {
          "iopub.status.busy": "2024-05-04T11:10:02.195432Z",
          "iopub.execute_input": "2024-05-04T11:10:02.195881Z",
          "iopub.status.idle": "2024-05-04T11:10:02.517882Z",
          "shell.execute_reply.started": "2024-05-04T11:10:02.195849Z",
          "shell.execute_reply": "2024-05-04T11:10:02.516538Z"
        },
        "trusted": true,
        "id": "WDHK0j9T-6yh"
      },
      "execution_count": null,
      "outputs": []
    },
    {
      "cell_type": "markdown",
      "source": [
        "### b) For Test set"
      ],
      "metadata": {
        "id": "-V3IWxF4-6yh"
      }
    },
    {
      "cell_type": "code",
      "source": [
        "df_test = pd.read_csv(\"/kaggle/input/fraud-detection/fraudTest.csv\")\n",
        "df_test"
      ],
      "metadata": {
        "execution": {
          "iopub.status.busy": "2024-05-04T11:10:15.119645Z",
          "iopub.execute_input": "2024-05-04T11:10:15.120099Z",
          "iopub.status.idle": "2024-05-04T11:10:21.530583Z",
          "shell.execute_reply.started": "2024-05-04T11:10:15.120065Z",
          "shell.execute_reply": "2024-05-04T11:10:21.529423Z"
        },
        "trusted": true,
        "id": "tOWazpGP-6yh"
      },
      "execution_count": null,
      "outputs": []
    },
    {
      "cell_type": "code",
      "source": [
        "df_test.drop(columns=[\"Unnamed: 0\", \"trans_num\", \"street\"], inplace= True)\n",
        "df_test"
      ],
      "metadata": {
        "execution": {
          "iopub.status.busy": "2024-05-04T11:10:29.099312Z",
          "iopub.execute_input": "2024-05-04T11:10:29.099712Z",
          "iopub.status.idle": "2024-05-04T11:10:29.231965Z",
          "shell.execute_reply.started": "2024-05-04T11:10:29.099682Z",
          "shell.execute_reply": "2024-05-04T11:10:29.230582Z"
        },
        "trusted": true,
        "id": "dA82Iueh-6yi"
      },
      "execution_count": null,
      "outputs": []
    },
    {
      "cell_type": "code",
      "source": [
        "data_test = df_test.sample(frac=1, random_state=1).reset_index()\n",
        "data_test = data_test.head(n = 5000)\n",
        "data_test.is_fraud.value_counts()"
      ],
      "metadata": {
        "execution": {
          "iopub.status.busy": "2024-05-04T11:10:34.409073Z",
          "iopub.execute_input": "2024-05-04T11:10:34.410644Z",
          "iopub.status.idle": "2024-05-04T11:10:35.086746Z",
          "shell.execute_reply.started": "2024-05-04T11:10:34.410589Z",
          "shell.execute_reply": "2024-05-04T11:10:35.085567Z"
        },
        "trusted": true,
        "id": "IIJjDoNu-6yi"
      },
      "execution_count": null,
      "outputs": []
    },
    {
      "cell_type": "code",
      "source": [
        "df_processed_test = pd.get_dummies(data=data_test)\n",
        "df_processed_test"
      ],
      "metadata": {
        "execution": {
          "iopub.status.busy": "2024-05-04T11:10:38.76722Z",
          "iopub.execute_input": "2024-05-04T11:10:38.767699Z",
          "iopub.status.idle": "2024-05-04T11:10:38.86628Z",
          "shell.execute_reply.started": "2024-05-04T11:10:38.767666Z",
          "shell.execute_reply": "2024-05-04T11:10:38.864907Z"
        },
        "trusted": true,
        "id": "GBmO4zev-6yi"
      },
      "execution_count": null,
      "outputs": []
    },
    {
      "cell_type": "code",
      "source": [
        "x_test = df_processed.drop(columns='is_fraud', axis=1)\n",
        "y_test = df_processed['is_fraud']"
      ],
      "metadata": {
        "execution": {
          "iopub.status.busy": "2024-05-04T11:10:44.641194Z",
          "iopub.execute_input": "2024-05-04T11:10:44.641641Z",
          "iopub.status.idle": "2024-05-04T11:10:44.8537Z",
          "shell.execute_reply.started": "2024-05-04T11:10:44.641609Z",
          "shell.execute_reply": "2024-05-04T11:10:44.852476Z"
        },
        "trusted": true,
        "id": "U1aN8mKg-6yi"
      },
      "execution_count": null,
      "outputs": []
    },
    {
      "cell_type": "markdown",
      "source": [
        "# Modeling\n",
        "Next models have been built and their accuracies have been computed to select a best model.\n",
        "### Logistic Regression"
      ],
      "metadata": {
        "id": "3EzM39_H-6yi"
      }
    },
    {
      "cell_type": "code",
      "source": [
        "LR = LogisticRegression(solver='liblinear')\n",
        "\n",
        "LR.fit(x_train, y_train)"
      ],
      "metadata": {
        "execution": {
          "iopub.status.busy": "2024-05-04T11:10:49.902852Z",
          "iopub.execute_input": "2024-05-04T11:10:49.903371Z",
          "iopub.status.idle": "2024-05-04T11:10:59.847217Z",
          "shell.execute_reply.started": "2024-05-04T11:10:49.90332Z",
          "shell.execute_reply": "2024-05-04T11:10:59.845682Z"
        },
        "trusted": true,
        "id": "52DMbuL7-6yi"
      },
      "execution_count": null,
      "outputs": []
    },
    {
      "cell_type": "code",
      "source": [
        "predictions = LR.predict(x_test)"
      ],
      "metadata": {
        "execution": {
          "iopub.status.busy": "2024-05-04T11:11:04.884991Z",
          "iopub.execute_input": "2024-05-04T11:11:04.885439Z",
          "iopub.status.idle": "2024-05-04T11:11:07.833785Z",
          "shell.execute_reply.started": "2024-05-04T11:11:04.885405Z",
          "shell.execute_reply": "2024-05-04T11:11:07.83221Z"
        },
        "trusted": true,
        "id": "HHtslTGw-6yi"
      },
      "execution_count": null,
      "outputs": []
    },
    {
      "cell_type": "code",
      "source": [
        "predict_proba = LR.predict_proba(x_test)"
      ],
      "metadata": {
        "execution": {
          "iopub.status.busy": "2024-05-04T11:11:12.594743Z",
          "iopub.execute_input": "2024-05-04T11:11:12.596052Z",
          "iopub.status.idle": "2024-05-04T11:11:15.49661Z",
          "shell.execute_reply.started": "2024-05-04T11:11:12.595911Z",
          "shell.execute_reply": "2024-05-04T11:11:15.495024Z"
        },
        "trusted": true,
        "id": "d68ogdvy-6yi"
      },
      "execution_count": null,
      "outputs": []
    },
    {
      "cell_type": "code",
      "source": [
        "LR_Accuracy_Score = accuracy_score(y_test, predictions)\n",
        "\n",
        "print(LR_Accuracy_Score)"
      ],
      "metadata": {
        "execution": {
          "iopub.status.busy": "2024-05-04T11:11:21.496628Z",
          "iopub.execute_input": "2024-05-04T11:11:21.497038Z",
          "iopub.status.idle": "2024-05-04T11:11:21.507723Z",
          "shell.execute_reply.started": "2024-05-04T11:11:21.496997Z",
          "shell.execute_reply": "2024-05-04T11:11:21.506285Z"
        },
        "trusted": true,
        "id": "Z3pJNXnX-6yi"
      },
      "execution_count": null,
      "outputs": []
    },
    {
      "cell_type": "markdown",
      "source": [
        "### Decision Tree"
      ],
      "metadata": {
        "id": "TDd5yHVR-6yj"
      }
    },
    {
      "cell_type": "code",
      "source": [
        "Tree = DecisionTreeClassifier()\n",
        "\n",
        "\n",
        "Tree.fit(x_train, y_train)"
      ],
      "metadata": {
        "execution": {
          "iopub.status.busy": "2024-05-04T11:11:26.079085Z",
          "iopub.execute_input": "2024-05-04T11:11:26.079528Z",
          "iopub.status.idle": "2024-05-04T11:12:03.421489Z",
          "shell.execute_reply.started": "2024-05-04T11:11:26.079497Z",
          "shell.execute_reply": "2024-05-04T11:12:03.420212Z"
        },
        "trusted": true,
        "id": "szMQYNNo-6yj"
      },
      "execution_count": null,
      "outputs": []
    },
    {
      "cell_type": "code",
      "source": [
        "predictions = Tree.predict(x_test)"
      ],
      "metadata": {
        "execution": {
          "iopub.status.busy": "2024-05-04T11:12:09.276916Z",
          "iopub.execute_input": "2024-05-04T11:12:09.277396Z",
          "iopub.status.idle": "2024-05-04T11:12:11.042622Z",
          "shell.execute_reply.started": "2024-05-04T11:12:09.277354Z",
          "shell.execute_reply": "2024-05-04T11:12:11.041444Z"
        },
        "trusted": true,
        "id": "5xFP87bS-6yj"
      },
      "execution_count": null,
      "outputs": []
    },
    {
      "cell_type": "code",
      "source": [
        "Tree_Accuracy_Score = accuracy_score(y_test, predictions)\n",
        "Tree_JaccardIndex = jaccard_score(y_test, predictions)\n",
        "Tree_F1_Score = f1_score(y_test, predictions)\n",
        "\n",
        "\n",
        "print(Tree_Accuracy_Score)\n",
        "print(Tree_JaccardIndex)\n",
        "print(Tree_F1_Score)"
      ],
      "metadata": {
        "execution": {
          "iopub.status.busy": "2024-05-04T11:12:15.778247Z",
          "iopub.execute_input": "2024-05-04T11:12:15.778917Z",
          "iopub.status.idle": "2024-05-04T11:12:15.815242Z",
          "shell.execute_reply.started": "2024-05-04T11:12:15.778865Z",
          "shell.execute_reply": "2024-05-04T11:12:15.813502Z"
        },
        "trusted": true,
        "id": "pdg-Uz1O-6yj"
      },
      "execution_count": null,
      "outputs": []
    },
    {
      "cell_type": "markdown",
      "source": [
        "### KNN"
      ],
      "metadata": {
        "id": "IZjIdhSj-6yj"
      }
    },
    {
      "cell_type": "code",
      "source": [
        "knn = KNeighborsClassifier(n_neighbors=4)\n",
        "knn.fit(x_train, y_train)"
      ],
      "metadata": {
        "execution": {
          "iopub.status.busy": "2024-05-04T11:12:20.797363Z",
          "iopub.execute_input": "2024-05-04T11:12:20.7979Z",
          "iopub.status.idle": "2024-05-04T11:12:30.742472Z",
          "shell.execute_reply.started": "2024-05-04T11:12:20.797866Z",
          "shell.execute_reply": "2024-05-04T11:12:30.741325Z"
        },
        "trusted": true,
        "id": "8ML3DhAS-6yj"
      },
      "execution_count": null,
      "outputs": []
    },
    {
      "cell_type": "code",
      "source": [
        "predictions = knn.predict(x_test)"
      ],
      "metadata": {
        "execution": {
          "iopub.status.busy": "2024-05-04T11:12:34.646937Z",
          "iopub.execute_input": "2024-05-04T11:12:34.647707Z",
          "iopub.status.idle": "2024-05-04T11:17:58.201999Z",
          "shell.execute_reply.started": "2024-05-04T11:12:34.64766Z",
          "shell.execute_reply": "2024-05-04T11:17:58.200418Z"
        },
        "trusted": true,
        "id": "oX5nwntD-6yj"
      },
      "execution_count": null,
      "outputs": []
    },
    {
      "cell_type": "code",
      "source": [
        "KNN_Accuracy_Score = accuracy_score(y_test, predictions)\n",
        "KNN_JaccardIndex = jaccard_score(y_test, predictions)\n",
        "KNN_F1_Score = f1_score(y_test, predictions)\n",
        "\n",
        "print(KNN_Accuracy_Score)\n",
        "print(KNN_JaccardIndex)\n",
        "print(KNN_F1_Score)"
      ],
      "metadata": {
        "execution": {
          "iopub.status.busy": "2024-05-04T11:18:10.652754Z",
          "iopub.execute_input": "2024-05-04T11:18:10.653194Z",
          "iopub.status.idle": "2024-05-04T11:18:10.684777Z",
          "shell.execute_reply.started": "2024-05-04T11:18:10.653158Z",
          "shell.execute_reply": "2024-05-04T11:18:10.683382Z"
        },
        "trusted": true,
        "id": "tp6-8Oxz-6yj"
      },
      "execution_count": null,
      "outputs": []
    }
  ]
}